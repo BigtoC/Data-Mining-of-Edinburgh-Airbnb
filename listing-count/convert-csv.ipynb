{
 "cells": [
  {
   "cell_type": "code",
   "execution_count": 1,
   "metadata": {},
   "outputs": [],
   "source": [
    "import pandas as pd\n",
    "import time"
   ]
  },
  {
   "cell_type": "markdown",
   "metadata": {},
   "source": [
    "## Read data file"
   ]
  },
  {
   "cell_type": "code",
   "execution_count": 2,
   "metadata": {},
   "outputs": [
    {
     "name": "stdout",
     "output_type": "stream",
     "text": [
      "used 3.4313650131225586 seconds\n"
     ]
    }
   ],
   "source": [
    "start_time = time.time()\n",
    "\n",
    "review = pd.read_csv(\"../reviews.zip\")\n",
    "\n",
    "end_time = time.time()\n",
    "\n",
    "print(f\"used {end_time - start_time} seconds\")"
   ]
  },
  {
   "cell_type": "code",
   "execution_count": 3,
   "metadata": {},
   "outputs": [
    {
     "data": {
      "text/html": [
       "<div>\n",
       "<style scoped>\n",
       "    .dataframe tbody tr th:only-of-type {\n",
       "        vertical-align: middle;\n",
       "    }\n",
       "\n",
       "    .dataframe tbody tr th {\n",
       "        vertical-align: top;\n",
       "    }\n",
       "\n",
       "    .dataframe thead th {\n",
       "        text-align: right;\n",
       "    }\n",
       "</style>\n",
       "<table border=\"1\" class=\"dataframe\">\n",
       "  <thead>\n",
       "    <tr style=\"text-align: right;\">\n",
       "      <th></th>\n",
       "      <th>listing_id</th>\n",
       "      <th>id</th>\n",
       "      <th>date</th>\n",
       "      <th>reviewer_id</th>\n",
       "      <th>reviewer_name</th>\n",
       "      <th>comments</th>\n",
       "    </tr>\n",
       "  </thead>\n",
       "  <tbody>\n",
       "    <tr>\n",
       "      <th>0</th>\n",
       "      <td>9835</td>\n",
       "      <td>279854</td>\n",
       "      <td>2011/05/24</td>\n",
       "      <td>560832</td>\n",
       "      <td>Miriam</td>\n",
       "      <td>Very hospitable, much appreciated.\\r\\n</td>\n",
       "    </tr>\n",
       "    <tr>\n",
       "      <th>1</th>\n",
       "      <td>9835</td>\n",
       "      <td>3640746</td>\n",
       "      <td>2013/02/26</td>\n",
       "      <td>5143343</td>\n",
       "      <td>Michelle</td>\n",
       "      <td>A beautiful house in a lovely quiet neighbourh...</td>\n",
       "    </tr>\n",
       "    <tr>\n",
       "      <th>2</th>\n",
       "      <td>9835</td>\n",
       "      <td>23731188</td>\n",
       "      <td>2014/12/08</td>\n",
       "      <td>2478713</td>\n",
       "      <td>Karyn</td>\n",
       "      <td>This was my first time using airbnb and it was...</td>\n",
       "    </tr>\n",
       "    <tr>\n",
       "      <th>3</th>\n",
       "      <td>9835</td>\n",
       "      <td>46588875</td>\n",
       "      <td>2015/09/12</td>\n",
       "      <td>26184717</td>\n",
       "      <td>Rosalind</td>\n",
       "      <td>I was visiting Melbourne to spend time with my...</td>\n",
       "    </tr>\n",
       "    <tr>\n",
       "      <th>4</th>\n",
       "      <td>10803</td>\n",
       "      <td>3333588</td>\n",
       "      <td>2013/01/12</td>\n",
       "      <td>4421189</td>\n",
       "      <td>Johannes</td>\n",
       "      <td>It was very convenient  to stay in Lindsay's a...</td>\n",
       "    </tr>\n",
       "    <tr>\n",
       "      <th>...</th>\n",
       "      <td>...</td>\n",
       "      <td>...</td>\n",
       "      <td>...</td>\n",
       "      <td>...</td>\n",
       "      <td>...</td>\n",
       "      <td>...</td>\n",
       "    </tr>\n",
       "    <tr>\n",
       "      <th>600559</th>\n",
       "      <td>38448808</td>\n",
       "      <td>527009976</td>\n",
       "      <td>2019/09/10</td>\n",
       "      <td>293290527</td>\n",
       "      <td>Jessica</td>\n",
       "      <td>April was very nice, flexible with hours upon ...</td>\n",
       "    </tr>\n",
       "    <tr>\n",
       "      <th>600560</th>\n",
       "      <td>38448808</td>\n",
       "      <td>527869915</td>\n",
       "      <td>2019/09/12</td>\n",
       "      <td>143162322</td>\n",
       "      <td>書瑋</td>\n",
       "      <td>good price good host</td>\n",
       "    </tr>\n",
       "    <tr>\n",
       "      <th>600561</th>\n",
       "      <td>38448808</td>\n",
       "      <td>528905921</td>\n",
       "      <td>2019/09/14</td>\n",
       "      <td>258375533</td>\n",
       "      <td>Barra</td>\n",
       "      <td>Great stay. Clean, good location, would recomm...</td>\n",
       "    </tr>\n",
       "    <tr>\n",
       "      <th>600562</th>\n",
       "      <td>38465301</td>\n",
       "      <td>527393893</td>\n",
       "      <td>2019/09/10</td>\n",
       "      <td>291267360</td>\n",
       "      <td>Lucy</td>\n",
       "      <td>The host canceled this reservation 16 days bef...</td>\n",
       "    </tr>\n",
       "    <tr>\n",
       "      <th>600563</th>\n",
       "      <td>38469019</td>\n",
       "      <td>527057197</td>\n",
       "      <td>2019/09/10</td>\n",
       "      <td>277843315</td>\n",
       "      <td>Sasipimon</td>\n",
       "      <td>The host canceled this reservation 29 days bef...</td>\n",
       "    </tr>\n",
       "  </tbody>\n",
       "</table>\n",
       "<p>600564 rows × 6 columns</p>\n",
       "</div>"
      ],
      "text/plain": [
       "        listing_id         id        date  reviewer_id reviewer_name  \\\n",
       "0             9835     279854  2011/05/24       560832        Miriam   \n",
       "1             9835    3640746  2013/02/26      5143343      Michelle   \n",
       "2             9835   23731188  2014/12/08      2478713         Karyn   \n",
       "3             9835   46588875  2015/09/12     26184717      Rosalind   \n",
       "4            10803    3333588  2013/01/12      4421189      Johannes   \n",
       "...            ...        ...         ...          ...           ...   \n",
       "600559    38448808  527009976  2019/09/10    293290527       Jessica   \n",
       "600560    38448808  527869915  2019/09/12    143162322            書瑋   \n",
       "600561    38448808  528905921  2019/09/14    258375533         Barra   \n",
       "600562    38465301  527393893  2019/09/10    291267360          Lucy   \n",
       "600563    38469019  527057197  2019/09/10    277843315     Sasipimon   \n",
       "\n",
       "                                                 comments  \n",
       "0                  Very hospitable, much appreciated.\\r\\n  \n",
       "1       A beautiful house in a lovely quiet neighbourh...  \n",
       "2       This was my first time using airbnb and it was...  \n",
       "3       I was visiting Melbourne to spend time with my...  \n",
       "4       It was very convenient  to stay in Lindsay's a...  \n",
       "...                                                   ...  \n",
       "600559  April was very nice, flexible with hours upon ...  \n",
       "600560                               good price good host  \n",
       "600561  Great stay. Clean, good location, would recomm...  \n",
       "600562  The host canceled this reservation 16 days bef...  \n",
       "600563  The host canceled this reservation 29 days bef...  \n",
       "\n",
       "[600564 rows x 6 columns]"
      ]
     },
     "execution_count": 3,
     "metadata": {},
     "output_type": "execute_result"
    }
   ],
   "source": [
    "review"
   ]
  },
  {
   "cell_type": "markdown",
   "metadata": {},
   "source": [
    "## Grouping"
   ]
  },
  {
   "cell_type": "code",
   "execution_count": 4,
   "metadata": {},
   "outputs": [],
   "source": [
    "gr = review.groupby(['listing_id'])"
   ]
  },
  {
   "cell_type": "code",
   "execution_count": 5,
   "metadata": {},
   "outputs": [
    {
     "data": {
      "text/plain": [
       "19212"
      ]
     },
     "execution_count": 5,
     "metadata": {},
     "output_type": "execute_result"
    }
   ],
   "source": [
    "len(gr.groups)"
   ]
  },
  {
   "cell_type": "markdown",
   "metadata": {},
   "source": [
    "## Counting"
   ]
  },
  {
   "cell_type": "code",
   "execution_count": 6,
   "metadata": {},
   "outputs": [],
   "source": [
    "only_list = gr.size().reset_index(name='counts')"
   ]
  },
  {
   "cell_type": "code",
   "execution_count": 7,
   "metadata": {},
   "outputs": [],
   "source": [
    "s = only_list.sort_values(['counts'], ascending=False)"
   ]
  },
  {
   "cell_type": "code",
   "execution_count": 8,
   "metadata": {},
   "outputs": [],
   "source": [
    "s.to_csv(\"listing-count.csv\")"
   ]
  },
  {
   "cell_type": "code",
   "execution_count": 9,
   "metadata": {},
   "outputs": [
    {
     "data": {
      "text/html": [
       "<div>\n",
       "<style scoped>\n",
       "    .dataframe tbody tr th:only-of-type {\n",
       "        vertical-align: middle;\n",
       "    }\n",
       "\n",
       "    .dataframe tbody tr th {\n",
       "        vertical-align: top;\n",
       "    }\n",
       "\n",
       "    .dataframe thead th {\n",
       "        text-align: right;\n",
       "    }\n",
       "</style>\n",
       "<table border=\"1\" class=\"dataframe\">\n",
       "  <thead>\n",
       "    <tr style=\"text-align: right;\">\n",
       "      <th></th>\n",
       "      <th>listing_id</th>\n",
       "      <th>counts</th>\n",
       "    </tr>\n",
       "  </thead>\n",
       "  <tbody>\n",
       "    <tr>\n",
       "      <th>268</th>\n",
       "      <td>999067</td>\n",
       "      <td>633</td>\n",
       "    </tr>\n",
       "    <tr>\n",
       "      <th>679</th>\n",
       "      <td>2449576</td>\n",
       "      <td>577</td>\n",
       "    </tr>\n",
       "    <tr>\n",
       "      <th>32</th>\n",
       "      <td>150729</td>\n",
       "      <td>548</td>\n",
       "    </tr>\n",
       "    <tr>\n",
       "      <th>3022</th>\n",
       "      <td>9734834</td>\n",
       "      <td>533</td>\n",
       "    </tr>\n",
       "    <tr>\n",
       "      <th>17</th>\n",
       "      <td>72576</td>\n",
       "      <td>490</td>\n",
       "    </tr>\n",
       "    <tr>\n",
       "      <th>...</th>\n",
       "      <td>...</td>\n",
       "      <td>...</td>\n",
       "    </tr>\n",
       "    <tr>\n",
       "      <th>6865</th>\n",
       "      <td>17982193</td>\n",
       "      <td>1</td>\n",
       "    </tr>\n",
       "    <tr>\n",
       "      <th>16191</th>\n",
       "      <td>32476902</td>\n",
       "      <td>1</td>\n",
       "    </tr>\n",
       "    <tr>\n",
       "      <th>6863</th>\n",
       "      <td>17981752</td>\n",
       "      <td>1</td>\n",
       "    </tr>\n",
       "    <tr>\n",
       "      <th>16194</th>\n",
       "      <td>32481744</td>\n",
       "      <td>1</td>\n",
       "    </tr>\n",
       "    <tr>\n",
       "      <th>19211</th>\n",
       "      <td>38469019</td>\n",
       "      <td>1</td>\n",
       "    </tr>\n",
       "  </tbody>\n",
       "</table>\n",
       "<p>19212 rows × 2 columns</p>\n",
       "</div>"
      ],
      "text/plain": [
       "       listing_id  counts\n",
       "268        999067     633\n",
       "679       2449576     577\n",
       "32         150729     548\n",
       "3022      9734834     533\n",
       "17          72576     490\n",
       "...           ...     ...\n",
       "6865     17982193       1\n",
       "16191    32476902       1\n",
       "6863     17981752       1\n",
       "16194    32481744       1\n",
       "19211    38469019       1\n",
       "\n",
       "[19212 rows x 2 columns]"
      ]
     },
     "execution_count": 9,
     "metadata": {},
     "output_type": "execute_result"
    }
   ],
   "source": [
    "s"
   ]
  },
  {
   "cell_type": "code",
   "execution_count": null,
   "metadata": {},
   "outputs": [],
   "source": []
  },
  {
   "cell_type": "code",
   "execution_count": null,
   "metadata": {},
   "outputs": [],
   "source": []
  }
 ],
 "metadata": {
  "kernelspec": {
   "display_name": "Python 3",
   "language": "python",
   "name": "python3"
  },
  "language_info": {
   "codemirror_mode": {
    "name": "ipython",
    "version": 3
   },
   "file_extension": ".py",
   "mimetype": "text/x-python",
   "name": "python",
   "nbconvert_exporter": "python",
   "pygments_lexer": "ipython3",
   "version": "3.7.5"
  }
 },
 "nbformat": 4,
 "nbformat_minor": 4
}
